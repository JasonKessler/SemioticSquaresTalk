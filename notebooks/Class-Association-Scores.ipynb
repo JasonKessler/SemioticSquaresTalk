{
 "cells": [
  {
   "cell_type": "code",
   "execution_count": 1,
   "metadata": {},
   "outputs": [
    {
     "data": {
      "text/html": [
       "<style>.container { width:98% !important; }</style>"
      ],
      "text/plain": [
       "<IPython.core.display.HTML object>"
      ]
     },
     "metadata": {},
     "output_type": "display_data"
    }
   ],
   "source": [
    "import pandas as pd\n",
    "import numpy as np\n",
    "import scattertext as st\n",
    "import seaborn as sns\n",
    "from scipy.stats import rankdata\n",
    "from IPython.display import IFrame\n",
    "from IPython.core.display import display, HTML\n",
    "display(HTML(\"<style>.container { width:98% !important; }</style>\"))\n",
    "import matplotlib.pyplot as plt\n",
    "%matplotlib inline "
   ]
  },
  {
   "cell_type": "markdown",
   "metadata": {},
   "source": [
    "### The data\n",
    " \n",
    "Dataset consists of reviews of movies and plot descriptions.  Plot descriptions are gaurenteed to be from a movie which was reviewed. \n",
    "\n",
    "Data set is from http://www.cs.cornell.edu/people/pabo/movie-review-data/\n",
    "\n",
    "References:\n",
    "* Bo Pang, Lillian Lee, and Shivakumar Vaithyanathan, Thumbs up? Sentiment Classification using Machine Learning Techniques, Proceedings of EMNLP 2002.\n",
    "\n",
    "* Bo Pang and Lillian Lee, A Sentimental Education: Sentiment Analysis Using Subjectivity Summarization Based on Minimum Cuts, Proceedings of ACL 2004."
   ]
  },
  {
   "cell_type": "code",
   "execution_count": 2,
   "metadata": {},
   "outputs": [
    {
     "name": "stdout",
     "output_type": "stream",
     "text": [
      "Positive    2455\n",
      "Negative    2411\n",
      "Plot         156\n",
      "Name: category_name, dtype: int64\n"
     ]
    },
    {
     "data": {
      "text/html": [
       "<div>\n",
       "<style scoped>\n",
       "    .dataframe tbody tr th:only-of-type {\n",
       "        vertical-align: middle;\n",
       "    }\n",
       "\n",
       "    .dataframe tbody tr th {\n",
       "        vertical-align: top;\n",
       "    }\n",
       "\n",
       "    .dataframe thead th {\n",
       "        text-align: right;\n",
       "    }\n",
       "</style>\n",
       "<table border=\"1\" class=\"dataframe\">\n",
       "  <thead>\n",
       "    <tr style=\"text-align: right;\">\n",
       "      <th></th>\n",
       "      <th>text</th>\n",
       "      <th>movie_name</th>\n",
       "      <th>category_name</th>\n",
       "    </tr>\n",
       "  </thead>\n",
       "  <tbody>\n",
       "    <tr>\n",
       "      <th>0</th>\n",
       "      <td>A senior at an elite college (Katie Holmes), a...</td>\n",
       "      <td>abandon</td>\n",
       "      <td>Plot</td>\n",
       "    </tr>\n",
       "    <tr>\n",
       "      <th>1</th>\n",
       "      <td>Will Lightman is a hip Londoner who one day re...</td>\n",
       "      <td>about_a_boy</td>\n",
       "      <td>Plot</td>\n",
       "    </tr>\n",
       "    <tr>\n",
       "      <th>2</th>\n",
       "      <td>Warren Schmidt (Nicholson) is forced to deal w...</td>\n",
       "      <td>about_schmidt</td>\n",
       "      <td>Plot</td>\n",
       "    </tr>\n",
       "    <tr>\n",
       "      <th>3</th>\n",
       "      <td>An account of screenwriter Charlie Kaufman's (...</td>\n",
       "      <td>adaptation</td>\n",
       "      <td>Plot</td>\n",
       "    </tr>\n",
       "    <tr>\n",
       "      <th>4</th>\n",
       "      <td>Ali G unwittingly becomes a pawn in the evil C...</td>\n",
       "      <td>ali_g_indahouse</td>\n",
       "      <td>Plot</td>\n",
       "    </tr>\n",
       "  </tbody>\n",
       "</table>\n",
       "</div>"
      ],
      "text/plain": [
       "                                                text       movie_name  \\\n",
       "0  A senior at an elite college (Katie Holmes), a...          abandon   \n",
       "1  Will Lightman is a hip Londoner who one day re...      about_a_boy   \n",
       "2  Warren Schmidt (Nicholson) is forced to deal w...    about_schmidt   \n",
       "3  An account of screenwriter Charlie Kaufman's (...       adaptation   \n",
       "4  Ali G unwittingly becomes a pawn in the evil C...  ali_g_indahouse   \n",
       "\n",
       "  category_name  \n",
       "0          Plot  \n",
       "1          Plot  \n",
       "2          Plot  \n",
       "3          Plot  \n",
       "4          Plot  "
      ]
     },
     "execution_count": 2,
     "metadata": {},
     "output_type": "execute_result"
    }
   ],
   "source": [
    "rdf = st.SampleCorpora.RottenTomatoes.get_data()\n",
    "rdf['category_name'] = rdf['category'].apply(lambda x: {'plot': 'Plot', 'rotten': 'Negative', 'fresh': 'Positive'}[x])\n",
    "print(rdf.category_name.value_counts())\n",
    "rdf[['text', 'movie_name', 'category_name']].head()"
   ]
  },
  {
   "cell_type": "code",
   "execution_count": 3,
   "metadata": {},
   "outputs": [],
   "source": [
    "corpus = (st.CorpusFromPandas(rdf, \n",
    "                              category_col='category_name', \n",
    "                              text_col='text',\n",
    "                              nlp = st.whitespace_nlp_with_sentences)\n",
    "          .build())\n",
    "corpus.get_term_freq_df().to_csv('term_freqs.csv')\n",
    "unigram_corpus = corpus.get_unigram_corpus()"
   ]
  },
  {
   "cell_type": "markdown",
   "metadata": {},
   "source": [
    "### Let's visualize the corpus using Scattertext\n",
    "\n",
    "The x-axis indicates the rank of a word or bigram in the set of positive reviews, and the y-axis negative reviews.\n",
    "\n",
    "Ranks are determined using \"dense\" ranking, meaning the most frequent terms, regardless of ties, are given rank 1, the next most frequent terms, regardless of ties, are given rank 2, etc.\n",
    "\n",
    "It appears that terms more associated with a class are a further distance from the diagonal line between the lower-left and upper-right corners.  Terms are colored according to this distance.  We'll return to this in a bit.\n",
    "\n",
    "Scattertext selectively labels points in such a way as to prevent labels from overlapping other elements of the graph. Mouse-over points and term labels for a preview, and click for a key-word in context view.\n",
    "\n",
    "References:\n",
    "* Jason S. Kessler. Scattertext: a Browser-Based Tool for Visualizing how Corpora Differ. ACL System Demonstrations. 2017."
   ]
  },
  {
   "cell_type": "code",
   "execution_count": 7,
   "metadata": {},
   "outputs": [
    {
     "data": {
      "text/html": [
       "\n",
       "        <iframe\n",
       "            width=\"1300\"\n",
       "            height=\"700\"\n",
       "            src=\"rotten_fresh_stdense.html\"\n",
       "            frameborder=\"0\"\n",
       "            allowfullscreen\n",
       "        ></iframe>\n",
       "        "
      ],
      "text/plain": [
       "<IPython.lib.display.IFrame at 0x1111f9eb8>"
      ]
     },
     "execution_count": 7,
     "metadata": {},
     "output_type": "execute_result"
    }
   ],
   "source": [
    "html = st.produce_scattertext_explorer(\n",
    "    corpus,\n",
    "    category='Positive',\n",
    "    not_categories=['Negative'],\n",
    "    sort_by_dist=False,\n",
    "    metadata=rdf['movie_name'],\n",
    "    term_scorer=st.RankDifference(),\n",
    "    transform=st.Scalers.percentile_dense\n",
    ")\n",
    "file_name = 'rotten_fresh_stdense.html'\n",
    "open(file_name, 'wb').write(html.encode('utf-8'))\n",
    "IFrame(src=file_name, width = 1300, height=700)"
   ]
  },
  {
   "cell_type": "markdown",
   "metadata": {},
   "source": [
    "### We view can see more terms through breaking ties in ranking alphabetically.\n",
    "Lower frequency terms are more prominent in this view, and more terms can be labeled."
   ]
  },
  {
   "cell_type": "code",
   "execution_count": 89,
   "metadata": {},
   "outputs": [
    {
     "data": {
      "text/html": [
       "\n",
       "        <iframe\n",
       "            width=\"1300\"\n",
       "            height=\"700\"\n",
       "            src=\"rotten_fresh_st.html\"\n",
       "            frameborder=\"0\"\n",
       "            allowfullscreen\n",
       "        ></iframe>\n",
       "        "
      ],
      "text/plain": [
       "<IPython.lib.display.IFrame at 0x11371e2e8>"
      ]
     },
     "execution_count": 89,
     "metadata": {},
     "output_type": "execute_result"
    }
   ],
   "source": [
    "html = st.produce_scattertext_explorer(\n",
    "    corpus,\n",
    "    category='Positive',\n",
    "    not_categories=['Negative'],\n",
    "    sort_by_dist=False,\n",
    "    metadata=rdf['movie_name'],\n",
    "    term_scorer=st.RankDifference(),\n",
    ")\n",
    "file_name = 'rotten_fresh_st.html'\n",
    "open(file_name, 'wb').write(html.encode('utf-8'))\n",
    "IFrame(src=file_name, width = 1300, height=700)"
   ]
  },
  {
   "cell_type": "markdown",
   "metadata": {},
   "source": [
    "# Examining term-category association\n",
    "We'll roughly follow the exmplaination given in Monroe et. al (2008), culminating in a version of their Log-Odds-Ratio with an Informed Dirichlet Prior score. \n",
    "\n",
    "### Naive approach 1\n",
    "### Frequency difference (not recommended)\n",
    "$$\\mbox{freqdiff}(\\mbox{term}) := \\frac{\\#(\\mbox{term}\\in\\mbox{category}_a)}{\\#(\\mbox{category}_a)} - \\frac{\\#(\\mbox{term}\\in\\mbox{category}_b)}{\\#(\\mbox{category}_b)}$$\n",
    "Disporportionately favors very frequent words.\n",
    "\n",
    "References\n",
    "* Burt L. Monroe, Michael P. Colaresi, and Kevin M. Quinn. 2008. Fightin’ words: Lexical feature selection and evaluation for identifying the content of political conflict. Political Analysis .\n"
   ]
  },
  {
   "cell_type": "code",
   "execution_count": 7,
   "metadata": {},
   "outputs": [
    {
     "data": {
      "text/html": [
       "\n",
       "        <iframe\n",
       "            width=\"1300\"\n",
       "            height=\"700\"\n",
       "            src=\"rotten_fresh_diff.html\"\n",
       "            frameborder=\"0\"\n",
       "            allowfullscreen\n",
       "        ></iframe>\n",
       "        "
      ],
      "text/plain": [
       "<IPython.lib.display.IFrame at 0x118130358>"
      ]
     },
     "execution_count": 7,
     "metadata": {},
     "output_type": "execute_result"
    }
   ],
   "source": [
    "class FrequencyDifference:\n",
    "    def get_scores(self, a, b): \n",
    "        return a/np.sum(a) - b/np.sum(b)\n",
    "    def get_name(self): \n",
    "        return 'Frequency Difference'\n",
    "    \n",
    "html = st.produce_fightin_words_explorer(\n",
    "    corpus,\n",
    "    category='Positive',\n",
    "    not_categories=['Negative'],\n",
    "    term_scorer=FrequencyDifference(),\n",
    "    metadata = rdf['movie_name'],\n",
    "    grey_threshold=0,\n",
    "    #y_axis_values=[-.002,0,.002,.004]\n",
    ")\n",
    "file_name = 'rotten_fresh_diff.html'\n",
    "open(file_name, 'wb').write(html.encode('utf-8'))\n",
    "IFrame(src=file_name, width = 1300, height=700)"
   ]
  },
  {
   "cell_type": "markdown",
   "metadata": {},
   "source": [
    "### Naive approach 2\n",
    "### tf.idf difference (not recommended)\n",
    "$$ \\mbox{Inverse Document Frquency}(\\mbox{term}) = \\log \\frac{\\mbox{# of categories}}{\\mbox{# of categories containing term}} $$\n",
    "\n",
    "$$ \\mbox{Term Frquency}(\\mbox{term}, \\mbox{category}) = \\#(\\mbox{term}\\in\\mbox{category}) $$\n",
    "\n",
    "$$ \\mbox{tf.idf}(\\mbox{term}, \\mbox{category}) = \\mbox{Term Frquency}(\\mbox{term}, \\mbox{category}) \\times \\mbox{Inverse Document Frquency}(\\mbox{term}) $$\n",
    "\n",
    "$$ \\mbox{tf.idf-difference}(\\mbox{term}, \\mbox{category}) = \\mbox{tf.idf}(\\mbox{term}, \\mbox{category}_a) - \\mbox{tf.idf}(\\mbox{term}, \\mbox{category}_b) $$\n",
    "\n",
    "Tf.idf ignores terms used in each category.  Since we only consider three categories (positive, negative and plot descritions), a large number of terms have zero (log 1) scores.  The problem is Tf.idf doesn't weight how often a term is used in another category.  This causes eccentric, brittle, low-freqeuency terms to be favored.\n",
    "\n",
    "This formulation does take into account data from a background corpus."
   ]
  },
  {
   "cell_type": "code",
   "execution_count": 8,
   "metadata": {},
   "outputs": [
    {
     "name": "stderr",
     "output_type": "stream",
     "text": [
      "/Users/kesslej/anaconda3/lib/python3.5/site-packages/scattertext-0.0.2.17-py3.5.egg/scattertext/TermDocMatrixFilter.py:42: RuntimeWarning: invalid value encountered in log\n",
      "  bigram_prob[bigram] / np.product([unigram_prob[word] for word in bigram.split(' ')])\n"
     ]
    },
    {
     "data": {
      "text/html": [
       "\n",
       "        <iframe\n",
       "            width=\"1300\"\n",
       "            height=\"700\"\n",
       "            src=\"rotten_fresh_tfidf.html\"\n",
       "            frameborder=\"0\"\n",
       "            allowfullscreen\n",
       "        ></iframe>\n",
       "        "
      ],
      "text/plain": [
       "<IPython.lib.display.IFrame at 0x118130160>"
      ]
     },
     "execution_count": 8,
     "metadata": {},
     "output_type": "execute_result"
    }
   ],
   "source": [
    "class TFIDF:\n",
    "    def __init__(self, corpus):\n",
    "        self.tdf = corpus.get_term_freq_df()\n",
    "    def get_scores(self, a, b): \n",
    "        n_docs = self.tdf.shape[1]\n",
    "        n_docs_with_term = (self.tdf > 0).astype(float).sum(axis=1)\n",
    "        idf = np.log(n_docs/n_docs_with_term)/np.log(2)\n",
    "        return a * idf - b * idf\n",
    "    def get_name(self): \n",
    "        return 'tf.idf difference'\n",
    "    \n",
    "html = st.produce_fightin_words_explorer(\n",
    "    corpus,\n",
    "    category='Positive',\n",
    "    not_categories=['Negative'],\n",
    "    term_scorer=TFIDF(corpus),\n",
    "    metadata = rdf['movie_name'],\n",
    "    grey_threshold=0\n",
    ")\n",
    "file_name = 'rotten_fresh_tfidf.html'\n",
    "open(file_name, 'wb').write(html.encode('utf-8'))\n",
    "IFrame(src=file_name, width = 1300, height=700)"
   ]
  },
  {
   "cell_type": "markdown",
   "metadata": {},
   "source": [
    "### Naive approach 3\n",
    "### Log-odds-ratio w/ smoothing (not recommended)\n",
    "\n",
    "$$ \\newcommand\\ddfrac[2]{\\frac{\\displaystyle #1}{\\displaystyle #2}}$$\n",
    "$$ \\mbox{Odds}(\\mbox{term}_i, \\mbox{category}) = \\frac{\\#(\\mbox{term}_i\\in\\mbox{category}_a)}{\\sum_{\\mbox{term}` \\neq \\mbox{term}} \\#(\\mbox{term}'\\in\\mbox{category})} = \\frac{y_{ai}}{n_{a} - y_{ai}} $$\n",
    "Note: this can be a very small number.\n",
    "\n",
    "The odds ratio is the ratio of the odds of a term being used in one category vs. another.\n",
    "$$ \\mbox{Odds-Ratio}(\\mbox{term}_i, \\mbox{category}_a, \\mbox{category}_b) =  \\ddfrac{y_{ai}\\mathbin{/}(n_{a} - y_{ai})}{y_{bi}\\mathbin{/}(n_{b} - y_{bi})} $$\n",
    "\n",
    "Given the likelihood these quantities are very small, the Log-Odds-Ratio is often used.\n",
    "\n",
    "$$ \\mbox{Log-Odds-Ratio}(\\mbox{term}_i, \\mbox{category}_a, \\mbox{category}_b) = \\log \\frac{y_{ai}}{n_{a} - y_{ai}} - \\log \\frac{y_{bi}}{n_{b} - y_{bi}} $$\n",
    "\n",
    "If term does not appear in \\mbox{category}_b (i.e., $ y_{bi} = 0 $), the odd of term_i in category_b will be 0 resulting the odds-ratio to be undefined.  We circumvent this issue by adding a pseudo-count to each term, assuming it occurs at least $\\alpha$ times.  \n",
    "\n",
    "$$ \\mbox{Smoothed Log-Odds-Ratio}(\\mbox{term}_i, \\mbox{category}_a, \\mbox{category}_b) = \\log \\frac{y_{ai} + \\alpha}{n_{a} + \\alpha \\cdot |y| - y_{ai} - \\alpha} - \\log \\frac{y_{bi} + \\alpha}{n_{b} + \\alpha \\cdot |y| - y_{bi} - \\alpha} $$\n",
    "\n",
    "This has a slightly better profile than tf.idf, but still favors very low frequency terms that are unique to a category.\n",
    "\n",
    "We can see that terms used exclusively in one category or another clump form extremely high or low-scoring clumps.  These terms occur infrequenly.  Intuitively, we'd like to score things highly if they have a lot of evidence behind them AND they tend to be used much more in one category vs. another."
   ]
  },
  {
   "cell_type": "code",
   "execution_count": 14,
   "metadata": {
    "scrolled": false
   },
   "outputs": [
    {
     "data": {
      "text/html": [
       "\n",
       "        <iframe\n",
       "            width=\"1300\"\n",
       "            height=\"700\"\n",
       "            src=\"rotten_fresh_lorsmooth.html\"\n",
       "            frameborder=\"0\"\n",
       "            allowfullscreen\n",
       "        ></iframe>\n",
       "        "
      ],
      "text/plain": [
       "<IPython.lib.display.IFrame at 0x118ca26d8>"
      ]
     },
     "execution_count": 14,
     "metadata": {},
     "output_type": "execute_result"
    }
   ],
   "source": [
    "class LogOddsRatioSmoothed:\n",
    "    def __init__(self, alpha):\n",
    "        self.alpha = alpha\n",
    "    def get_scores(self, a, b): \n",
    "        return (np.log((a + self.alpha)/(np.sum(a) + self.alpha * len(a) - a - self.alpha)) \n",
    "                - np.log((b + self.alpha)/(np.sum(b) + self.alpha * len(b) - b - self.alpha)))\n",
    "    def get_name(self): \n",
    "        return 'Smoothed Log-Odds-Ratio'\n",
    "    \n",
    "html = st.produce_fightin_words_explorer(\n",
    "    corpus,\n",
    "    category='Positive',\n",
    "    not_category_name='Negative',\n",
    "    not_categories=['Negative'],\n",
    "    term_scorer=LogOddsRatioSmoothed(0.00000001),\n",
    "    metadata = rdf['movie_name'],\n",
    "    grey_threshold=0,\n",
    "    y_axis_values=[-20, -10, 0, 10, 20]\n",
    ")\n",
    "file_name = 'rotten_fresh_lorsmooth.html'\n",
    "open(file_name, 'wb').write(html.encode('utf-8'))\n",
    "IFrame(src=file_name, width = 1300, height=700)"
   ]
  },
  {
   "cell_type": "markdown",
   "metadata": {},
   "source": [
    "### Accounting for variance\n",
    "How can we account of the certainty of the estimates?  Less frequent terms will have higher variances.\n",
    "\n",
    "The standard error of the log-odds-ratio is:\n",
    "\n",
    "$$ \\mbox{SE-Smoothed Log-Odds-Ratio}(\\mbox{term}_i, \\mbox{category}_a, \\mbox{category}_b) = \\frac{1}{y_{ai} + \\alpha} + \\frac{1}{n_{a} + \\alpha \\cdot |y| - y_{ai} - \\alpha} + \\frac{1}{y_{bi} + \\alpha}+ \\frac{1}{n_{b} + \\alpha \\cdot |y| - y_{bi} - \\alpha} $$\n",
    "\n",
    "The plot below shows how terms used infrequently and especially those which only appear in one class have a very high variance."
   ]
  },
  {
   "cell_type": "code",
   "execution_count": 11,
   "metadata": {},
   "outputs": [
    {
     "data": {
      "text/html": [
       "\n",
       "        <iframe\n",
       "            width=\"1300\"\n",
       "            height=\"700\"\n",
       "            src=\"rotten_fresh_lorsmoothse.html\"\n",
       "            frameborder=\"0\"\n",
       "            allowfullscreen\n",
       "        ></iframe>\n",
       "        "
      ],
      "text/plain": [
       "<IPython.lib.display.IFrame at 0x118ec5f28>"
      ]
     },
     "execution_count": 11,
     "metadata": {},
     "output_type": "execute_result"
    }
   ],
   "source": [
    "class SELogOddsRatioSmoothed:\n",
    "    def __init__(self, alpha):\n",
    "        self.alpha = alpha\n",
    "    def get_scores(self, a, b): \n",
    "        a += self.alpha\n",
    "        b += self.alpha\n",
    "        return  1./a + 1./(np.sum(a) - a) + 1./b + 1./(np.sum(b) - b)\n",
    "    def get_name(self): \n",
    "        return 'SE Smoothed Log-Odds-Ratio'\n",
    "    \n",
    "html = st.produce_fightin_words_explorer(\n",
    "    corpus,\n",
    "    category='Positive',\n",
    "    not_category_name='Negative',\n",
    "    not_categories=['Negative'],\n",
    "    term_scorer=SELogOddsRatioSmoothed(0.00000001),\n",
    "    metadata = rdf['movie_name'],\n",
    "    grey_threshold=0\n",
    ")\n",
    "file_name = 'rotten_fresh_lorsmoothse.html'\n",
    "open(file_name, 'wb').write(html.encode('utf-8'))\n",
    "IFrame(src=file_name, width = 1300, height=700)"
   ]
  },
  {
   "cell_type": "markdown",
   "metadata": {},
   "source": [
    "### Smoothed Log-Odds-Prior Z-Score\n",
    "### Preferred in certain cases\n",
    "\n",
    "Finding the Z-Scores of log-odds-ratios allows us to gacefully account for variance.\n",
    "\n",
    "$$ \\mbox{LOR Smoothed Z-Score}(\\mbox{term}_i, \\mbox{category}_a, \\mbox{category}_b) = \\frac{\\mbox{LOR Smoothed}}{\\sqrt{\\mbox{SE LOR Smoothed}}} $$\n",
    "\n",
    "The chart below, given a smoothing $\\alpha$ of 0.01, dampens the score of infrequent words and allows for frequently words to rank highly.  However, the words \"and\" and \"of\" appear to be overweighted. \n",
    "\n",
    "Eccentric words like \"winning\" are downweighted but still significant."
   ]
  },
  {
   "cell_type": "code",
   "execution_count": 12,
   "metadata": {},
   "outputs": [
    {
     "data": {
      "text/html": [
       "\n",
       "        <iframe\n",
       "            width=\"1300\"\n",
       "            height=\"700\"\n",
       "            src=\"rotten_fresh_loridp.html\"\n",
       "            frameborder=\"0\"\n",
       "            allowfullscreen\n",
       "        ></iframe>\n",
       "        "
      ],
      "text/plain": [
       "<IPython.lib.display.IFrame at 0x115dcb550>"
      ]
     },
     "execution_count": 12,
     "metadata": {},
     "output_type": "execute_result"
    }
   ],
   "source": [
    "imp.reload(st)\n",
    "class LogOddsRatioSmoothedZScorePrior:\n",
    "    def __init__(self, prior):\n",
    "        self.prior = prior\n",
    "    def get_scores(self, a, b): \n",
    "        a += self.prior\n",
    "        b += self.prior\n",
    "        lor = (np.log(a/(np.sum(a) - a)) - np.log(b/(np.sum(b) - b)))\n",
    "        lorstd = 1./a + 1./(np.sum(a) - a) + 1./b + 1./(np.sum(b) - b)\n",
    "        return lor/np.sqrt(lorstd)\n",
    "        \n",
    "    def get_name(self): \n",
    "        return 'Smoothed Log-Odds-Ratio w/ Prior Z-Score'\n",
    "html = st.produce_fightin_words_explorer(\n",
    "    corpus,\n",
    "    category='Positive',\n",
    "    not_category_name='Negative',\n",
    "    not_categories=['Negative'],\n",
    "    term_scorer=LogOddsRatioSmoothedZScorePrior(0.01),\n",
    "    metadata = rdf['movie_name'],\n",
    "    gray_threshold = 1.96\n",
    ")\n",
    "file_name = 'rotten_fresh_loridp.html'\n",
    "open(file_name, 'wb').write(html.encode('utf-8'))\n",
    "IFrame(src=file_name, width = 1300, height=700)"
   ]
  },
  {
   "cell_type": "markdown",
   "metadata": {},
   "source": [
    "### Log-Odds-Ratio with Informative Dirichlet Prior Z-Score\n",
    "### Prefered, currently very popular in NLP and CSS literature, flaws exist\n",
    "### Note: this formulation is modified slightly from Monroe et al. 2008.\n",
    "\n",
    "We know, intuitively, words which which are used very frequently require much more evidence to be significantly associated with a class than less frequent words.  For example, words like \"best\" and \"entertaining\" in the above example should be scored lower than \"and\" and \"of\".  \n",
    "\n",
    "The approach developed by Monroe et. al is to more aggressively smooth terms based on their frequency in a background corpus.\n",
    "\n",
    "The downside is of this approach is that obtaining a background corpus may be difficult. Lists of background term frequencies, especially for 2+grams, can be very large and unwieldy. Moreover, term frequeency lists can become outdated very quickly, especially wrt to politics, pop culture, and technology.\n",
    "\n",
    "We construct two vectors of prior term counts for each category, $\\alpha_a$ and $\\alpha_b$.  The priors are based on a background set of word frequencies, refered to as $y_{c}$  These are ideally in the same domain as the documents being studied, although could come from a general list of word frequencies.  The background counts are normalized to the size of their respective categories. The hyperparameter $\\sigma$ scales the background counts to a multiple of their category size. In other words, as $\\sigma$ increases, the regularization increases, and the odds ratio tends more toward zero.\n",
    "\n",
    "The $\\sigma$ I've found most useful is 10, which I include in Scattertext.\n",
    "\n",
    "$$ \\alpha_a = \\sigma \\cdot n_a \\cdot \\frac{y_{ci}}{n_c} $$\n",
    "\n",
    "$$ \\alpha_b = \\sigma \\cdot n_b \\cdot \\frac{y_{ci}}{n_c} $$\n",
    "\n",
    "The $\\alpha$s can then be used analogously to find the Z-Score of the LOR.\n",
    "\n",
    "$$ \\mbox{LOR}(\\mbox{term}_i, \\mbox{category}_a, \\mbox{category}_b) = \\log \\frac{y_{ai} + \\alpha_a}{n_{a} + \\alpha_a \\cdot |y| - y_{ai} - \\alpha_a} - \\log \\frac{y_{bi} + \\alpha_b}{n_{b} + \\alpha_b \\cdot |y| - y_{bi} - \\alpha_b} $$\n",
    "\n",
    "$$ \\mbox{LOR-SE}(\\mbox{term}_i, \\mbox{category}_a, \\mbox{category}_b) = \\frac{1}{y_{ai} + \\alpha_a} + \\frac{1}{n_{a} + \\alpha_a \\cdot |y| - y_{ai} - \\alpha_a} + \\frac{1}{y_{bi} + \\alpha_b}+ \\frac{1}{n_{b} + \\alpha_b \\cdot |y| - y_{bi} - \\alpha_b} $$\n",
    "\n",
    "In the following example, we use the plot descrition as a background corpus."
   ]
  },
  {
   "cell_type": "code",
   "execution_count": 38,
   "metadata": {},
   "outputs": [
    {
     "data": {
      "text/html": [
       "\n",
       "        <iframe\n",
       "            width=\"1300\"\n",
       "            height=\"700\"\n",
       "            src=\"rotten_fresh_loridp.html\"\n",
       "            frameborder=\"0\"\n",
       "            allowfullscreen\n",
       "        ></iframe>\n",
       "        "
      ],
      "text/plain": [
       "<IPython.lib.display.IFrame at 0x1103f5a90>"
      ]
     },
     "execution_count": 38,
     "metadata": {},
     "output_type": "execute_result"
    }
   ],
   "source": [
    "priors = (scattertext.PriorFactory(unigram_corpus, \n",
    "                                   category='Positive', \n",
    "                                   not_categories=['Negative'],\n",
    "                                   starting_count=0.01)\n",
    "          .use_neutral_categories()\n",
    "          .get_priors())\n",
    "class LogOddsRatioSmoothedZScorePrior:\n",
    "    def __init__(self, prior, prior_scale):\n",
    "        self.prior = prior\n",
    "        self.prior_scale = prior_scale\n",
    "    def get_scores(self, a, b): \n",
    "        ap = a + self.prior * self.prior_scale*sum(a)/sum(self.prior.values)\n",
    "        bp = b + self.prior * self.prior_scale*sum(b)/sum(self.prior.values)\n",
    "        lor = (np.log(ap/(np.sum(ap) - ap)) - np.log(bp/(np.sum(bp) - bp)))\n",
    "        lorstd = 1./ap + 1./(np.sum(ap) - ap) + 1./bp + 1./(np.sum(bp) - bp)\n",
    "        return lor/np.sqrt(lorstd)\n",
    "        \n",
    "    def get_name(self): \n",
    "        return 'Log-Odds-Ratio w/ Informative Prior Z-Score'\n",
    "html = st.produce_fightin_words_explorer(\n",
    "    unigram_corpus,\n",
    "    category='Positive',\n",
    "    not_category_name='Negative',\n",
    "    not_categories=['Negative'],\n",
    "    term_scorer=LogOddsRatioSmoothedZScorePrior(priors, 10),\n",
    "    # Equivalent of \n",
    "    # term_scorer=st.LogOddsRatioInformativeDirichletPrior(priors, 10),    \n",
    "    metadata = rdf['movie_name']\n",
    ")\n",
    "file_name = 'rotten_fresh_loridp.html'\n",
    "open(file_name, 'wb').write(html.encode('utf-8'))\n",
    "IFrame(src=file_name, width = 1300, height=700)"
   ]
  },
  {
   "cell_type": "markdown",
   "metadata": {},
   "source": [
    "### Effect of $\\sigma$\n",
    "In the plot below, we can see how a changing $\\sigma$ alters the z-scores of low and high frequency terms which are associated the Positive category.\n",
    "\n",
    "A high $\\sigma$ causes the infrequent word \"winning\", which only occurs in Positive documents, to dominate more frequent, associated terms.  A very low $\\sigma$ causes rankings to revert to Smoothed LOR Z-Score."
   ]
  },
  {
   "cell_type": "code",
   "execution_count": 90,
   "metadata": {},
   "outputs": [
    {
     "data": {
      "text/plain": [
       "<matplotlib.text.Text at 0x11c201d30>"
      ]
     },
     "execution_count": 90,
     "metadata": {},
     "output_type": "execute_result"
    },
    {
     "data": {
      "image/png": "[encoded data removed]",
      "text/plain": [
       "<matplotlib.figure.Figure at 0x11ca90c88>"
      ]
     },
     "metadata": {},
     "output_type": "display_data"
    }
   ],
   "source": [
    "term_freqs = unigram_corpus.get_term_freq_df()\n",
    "data = []\n",
    "for sigma in np.linspace(0.01, 30, 40):\n",
    "    scores = LogOddsRatioSmoothedZScorePrior(priors, sigma).get_scores(term_freqs['Positive freq'], term_freqs['Negative freq'])\n",
    "    for term in ['and', 'best', 'winning', 'of']:\n",
    "        data.append({'term': term, 'score': scores[term], 'sigma': sigma})\n",
    "ax = (pd.DataFrame(data)\n",
    " .pivot(index='sigma', columns='term', values='score')\n",
    " .plot(figsize=(15, 8), fontsize=20))\n",
    "ax.legend(prop={'size': 20})\n",
    "ax.set_xlabel('$\\sigma$', size= 20)\n",
    "ax.set_ylabel('Z-Score', size= 20)"
   ]
  },
  {
   "cell_type": "markdown",
   "metadata": {},
   "source": [
    "### Dense rank differences\n",
    "### Prefered, but may under-score extremely frequent and infrequent terms\n",
    "\n",
    "Let $\\rho_\\mbox{category}$ be the dense rank function for a given category.\n",
    "\n",
    "Let $d_\\mbox{category}$ be the number of distinct term frequencies in a category\n",
    "\n",
    "This metric takes the difference of the normalized category-specific dense ranks of term frequencies. \n",
    "\n",
    "Define the rank-difference score as the difference in \n",
    "$$\\mbox{Rank-Difference} = \\frac{\\rho_{a}(y_a)}{d_a} - \\frac{\\rho_{b}(y_b)}{d_b}$$\n",
    "\n",
    "We can see that the words which occure fairly frequently are favored.  Frequent and very infrequent words are heavily regularized.\n",
    "\n",
    "No background frequencies are required!"
   ]
  },
  {
   "cell_type": "code",
   "execution_count": 67,
   "metadata": {},
   "outputs": [
    {
     "data": {
      "text/html": [
       "\n",
       "        <iframe\n",
       "            width=\"1300\"\n",
       "            height=\"700\"\n",
       "            src=\"rotten_fresh_rankdiff.html\"\n",
       "            frameborder=\"0\"\n",
       "            allowfullscreen\n",
       "        ></iframe>\n",
       "        "
      ],
      "text/plain": [
       "<IPython.lib.display.IFrame at 0x10f405e10>"
      ]
     },
     "execution_count": 67,
     "metadata": {},
     "output_type": "execute_result"
    }
   ],
   "source": [
    "class RankDifference:\n",
    "    def get_scores(self, a, b): \n",
    "        return rankdata(a,'dense')/np.max(rankdata(a,'dense')) - rankdata(b,'dense')/np.max(rankdata(b,'dense'))\n",
    "    def get_name(self): \n",
    "        return 'Rank Difference'\n",
    "    \n",
    "html = st.produce_fightin_words_explorer(\n",
    "    corpus,\n",
    "    category='Positive',\n",
    "    not_category_name='Negative',\n",
    "    not_categories=['Negative'],\n",
    "    term_scorer=RankDifference(),\n",
    "    metadata = rdf['movie_name'],\n",
    "    grey_threshold=0\n",
    ")\n",
    "file_name = 'rotten_fresh_rankdiff.html'\n",
    "open(file_name, 'wb').write(html.encode('utf-8'))\n",
    "IFrame(src=file_name, width = 1300, height=700)"
   ]
  },
  {
   "cell_type": "code",
   "execution_count": 96,
   "metadata": {},
   "outputs": [
    {
     "data": {
      "text/html": [
       "\n",
       "        <iframe\n",
       "            width=\"1300\"\n",
       "            height=\"700\"\n",
       "            src=\"plot_rankdiff.html\"\n",
       "            frameborder=\"0\"\n",
       "            allowfullscreen\n",
       "        ></iframe>\n",
       "        "
      ],
      "text/plain": [
       "<IPython.lib.display.IFrame at 0x115bdaba8>"
      ]
     },
     "execution_count": 96,
     "metadata": {},
     "output_type": "execute_result"
    }
   ],
   "source": [
    "rdf['domain'] = rdf.category_name.apply(lambda x: 'Plot' if x == 'Plot' else 'Review')\n",
    "plotcorpus = (st.CorpusFromPandas(rdf, \n",
    "                              category_col='domain', \n",
    "                              text_col='text',\n",
    "                              nlp = st.whitespace_nlp_with_sentences)\n",
    "          .build())\n",
    "html = st.produce_fightin_words_explorer(\n",
    "    plotcorpus,\n",
    "    category='Review',\n",
    "    not_category_name='Plot',\n",
    "    term_scorer=RankDifference(),\n",
    "    metadata = rdf['movie_name'],\n",
    "    grey_threshold=0\n",
    ")\n",
    "file_name = 'plot_rankdiff.html'\n",
    "open(file_name, 'wb').write(html.encode('utf-8'))\n",
    "IFrame(src=file_name, width = 1300, height=700)"
   ]
  },
  {
   "cell_type": "code",
   "execution_count": 4,
   "metadata": {
    "scrolled": false
   },
   "outputs": [
    {
     "data": {
      "text/html": [
       "\n",
       "        <iframe\n",
       "            width=\"1300\"\n",
       "            height=\"700\"\n",
       "            src=\"semiotic_square.html\"\n",
       "            frameborder=\"0\"\n",
       "            allowfullscreen\n",
       "        ></iframe>\n",
       "        "
      ],
      "text/plain": [
       "<IPython.lib.display.IFrame at 0x1104b37b8>"
      ]
     },
     "execution_count": 4,
     "metadata": {},
     "output_type": "execute_result"
    }
   ],
   "source": [
    "semiotic_square = st.SemioticSquare(\n",
    "\tunigram_corpus,\n",
    "\tcategory_a='Positive',\n",
    "\tcategory_b='Negative',\n",
    "\tneutral_categories=['Plot'],\n",
    "\tscorer=st.RankDifference()\n",
    ")\n",
    "\n",
    "html = st.produce_semiotic_square_explorer(semiotic_square,\n",
    "                                           category_name='Positive',\n",
    "                                           not_category_name='Negative',\n",
    "                                           x_label='Positive-Negative',\n",
    "                                           y_label='Review-Plot',\n",
    "                                           neutral_category_name='Plot Description',\n",
    "                                           metadata=rdf['movie_name'],\n",
    "                                           x_axis_values=[-1, 0.5, 0, 0.5, 1],\n",
    "                                           y_axis_values=[-1, 0.5, 0, 0.5, 1])\n",
    "\n",
    "fn = 'semiotic_square.html'\n",
    "open(fn, 'wb').write(html.encode('utf-8'))\n",
    "IFrame(src=fn, width = 1300, height=700)"
   ]
  },
  {
   "cell_type": "code",
   "execution_count": null,
   "metadata": {},
   "outputs": [],
   "source": []
  }
 ],
 "metadata": {
  "anaconda-cloud": {
   "attach-environment": true,
   "summary": "Class Association Scores with Scattertext"
  },
  "kernelspec": {
   "display_name": "Python [Root]",
   "language": "python",
   "name": "Python [Root]"
  },
  "language_info": {
   "codemirror_mode": {
    "name": "ipython",
    "version": 3
   },
   "file_extension": ".py",
   "mimetype": "text/x-python",
   "name": "python",
   "nbconvert_exporter": "python",
   "pygments_lexer": "ipython3",
   "version": "3.5.2"
  }
 },
 "nbformat": 4,
 "nbformat_minor": 2
}
